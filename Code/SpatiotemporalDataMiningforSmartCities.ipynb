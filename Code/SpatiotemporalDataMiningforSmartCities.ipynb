{
 "cells": [
  {
   "cell_type": "code",
   "execution_count": 2,
   "id": "8b5747dd",
   "metadata": {},
   "outputs": [],
   "source": [
    "import os\n",
    "import pandas as pd\n",
    "import geopandas as gpd\n",
    "import osmnx as ox\n",
    "import matplotlib.pyplot as plt\n",
    "import seaborn as sns\n",
    "import folium\n",
    "from shapely.geometry import Point\n",
    "\n",
    "os.chdir(\"C:\\\\Users\\\\kusha\\\\OneDrive\\\\Desktop\\\\Kushang's Files\\\\Research Paper DM\\\\Data\\\\Research_paper_csv_uid_67196de5-0cf8-43a1-bd74-f5c490a253b9\")\n",
    "os.getcwd()\n",
    "# Output directory setup\n",
    "output_dir = \"san_jose_osm_outputs\"\n",
    "os.makedirs(output_dir, exist_ok=True)\n",
    "\n",
    "# Area of interest\n",
    "place = \"San Jose, California, USA\"\n"
   ]
  },
  {
   "cell_type": "code",
   "execution_count": 4,
   "id": "52dfd3e3",
   "metadata": {},
   "outputs": [
    {
     "name": "stdout",
     "output_type": "stream",
     "text": [
      "🔲 Starting BOUNDING BOX download...\n",
      "📦 Fetching 'building' via bounding box...\n"
     ]
    },
    {
     "name": "stderr",
     "output_type": "stream",
     "text": [
      "C:\\Users\\kusha\\AppData\\Local\\Temp\\ipykernel_18244\\3819920871.py:29: FutureWarning: The `north`, `south`, `east`, and `west` parameters are deprecated and will be removed in the v2.0.0 release. Use the `bbox` parameter instead. See the OSMnx v2 migration guide: https://github.com/gboeing/osmnx/issues/1123\n",
      "  gdf = ox.features_from_bbox(north, south, east, west, tags=tag)\n",
      "C:\\Users\\kusha\\AppData\\Local\\Temp\\ipykernel_18244\\3819920871.py:29: FutureWarning: The expected order of coordinates in `bbox` will change in the v2.0.0 release to `(left, bottom, right, top)`.\n",
      "  gdf = ox.features_from_bbox(north, south, east, west, tags=tag)\n",
      "C:\\Users\\kusha\\AppData\\Local\\Temp\\ipykernel_18244\\3819920871.py:31: UserWarning: Geometry is in a geographic CRS. Results from 'centroid' are likely incorrect. Use 'GeoSeries.to_crs()' to re-project geometries to a projected CRS before this operation.\n",
      "\n",
      "  gdf[\"longitude\"] = gdf.geometry.centroid.x\n",
      "C:\\Users\\kusha\\AppData\\Local\\Temp\\ipykernel_18244\\3819920871.py:32: UserWarning: Geometry is in a geographic CRS. Results from 'centroid' are likely incorrect. Use 'GeoSeries.to_crs()' to re-project geometries to a projected CRS before this operation.\n",
      "\n",
      "  gdf[\"latitude\"] = gdf.geometry.centroid.y\n"
     ]
    },
    {
     "name": "stdout",
     "output_type": "stream",
     "text": [
      "✅ Saved san_jose_osm_cleaned\\building_bbox.csv | Records: 36930\n",
      "📦 Fetching 'healthcare' via bounding box...\n"
     ]
    },
    {
     "name": "stderr",
     "output_type": "stream",
     "text": [
      "C:\\Users\\kusha\\AppData\\Local\\Temp\\ipykernel_18244\\3819920871.py:29: FutureWarning: The `north`, `south`, `east`, and `west` parameters are deprecated and will be removed in the v2.0.0 release. Use the `bbox` parameter instead. See the OSMnx v2 migration guide: https://github.com/gboeing/osmnx/issues/1123\n",
      "  gdf = ox.features_from_bbox(north, south, east, west, tags=tag)\n",
      "C:\\Users\\kusha\\AppData\\Local\\Temp\\ipykernel_18244\\3819920871.py:29: FutureWarning: The expected order of coordinates in `bbox` will change in the v2.0.0 release to `(left, bottom, right, top)`.\n",
      "  gdf = ox.features_from_bbox(north, south, east, west, tags=tag)\n",
      "C:\\Users\\kusha\\AppData\\Local\\Temp\\ipykernel_18244\\3819920871.py:31: UserWarning: Geometry is in a geographic CRS. Results from 'centroid' are likely incorrect. Use 'GeoSeries.to_crs()' to re-project geometries to a projected CRS before this operation.\n",
      "\n",
      "  gdf[\"longitude\"] = gdf.geometry.centroid.x\n",
      "C:\\Users\\kusha\\AppData\\Local\\Temp\\ipykernel_18244\\3819920871.py:32: UserWarning: Geometry is in a geographic CRS. Results from 'centroid' are likely incorrect. Use 'GeoSeries.to_crs()' to re-project geometries to a projected CRS before this operation.\n",
      "\n",
      "  gdf[\"latitude\"] = gdf.geometry.centroid.y\n",
      "C:\\Users\\kusha\\AppData\\Local\\Temp\\ipykernel_18244\\3819920871.py:29: FutureWarning: The `north`, `south`, `east`, and `west` parameters are deprecated and will be removed in the v2.0.0 release. Use the `bbox` parameter instead. See the OSMnx v2 migration guide: https://github.com/gboeing/osmnx/issues/1123\n",
      "  gdf = ox.features_from_bbox(north, south, east, west, tags=tag)\n",
      "C:\\Users\\kusha\\AppData\\Local\\Temp\\ipykernel_18244\\3819920871.py:29: FutureWarning: The expected order of coordinates in `bbox` will change in the v2.0.0 release to `(left, bottom, right, top)`.\n",
      "  gdf = ox.features_from_bbox(north, south, east, west, tags=tag)\n"
     ]
    },
    {
     "name": "stdout",
     "output_type": "stream",
     "text": [
      "✅ Saved san_jose_osm_cleaned\\healthcare_bbox.csv | Records: 96\n",
      "📦 Fetching 'highway' via bounding box...\n"
     ]
    },
    {
     "name": "stderr",
     "output_type": "stream",
     "text": [
      "C:\\Users\\kusha\\AppData\\Local\\Temp\\ipykernel_18244\\3819920871.py:31: UserWarning: Geometry is in a geographic CRS. Results from 'centroid' are likely incorrect. Use 'GeoSeries.to_crs()' to re-project geometries to a projected CRS before this operation.\n",
      "\n",
      "  gdf[\"longitude\"] = gdf.geometry.centroid.x\n",
      "C:\\Users\\kusha\\AppData\\Local\\Temp\\ipykernel_18244\\3819920871.py:32: UserWarning: Geometry is in a geographic CRS. Results from 'centroid' are likely incorrect. Use 'GeoSeries.to_crs()' to re-project geometries to a projected CRS before this operation.\n",
      "\n",
      "  gdf[\"latitude\"] = gdf.geometry.centroid.y\n"
     ]
    },
    {
     "name": "stdout",
     "output_type": "stream",
     "text": [
      "✅ Saved san_jose_osm_cleaned\\highway_bbox.csv | Records: 23237\n",
      "📦 Fetching 'amenity' via bounding box...\n"
     ]
    },
    {
     "name": "stderr",
     "output_type": "stream",
     "text": [
      "C:\\Users\\kusha\\AppData\\Local\\Temp\\ipykernel_18244\\3819920871.py:29: FutureWarning: The `north`, `south`, `east`, and `west` parameters are deprecated and will be removed in the v2.0.0 release. Use the `bbox` parameter instead. See the OSMnx v2 migration guide: https://github.com/gboeing/osmnx/issues/1123\n",
      "  gdf = ox.features_from_bbox(north, south, east, west, tags=tag)\n",
      "C:\\Users\\kusha\\AppData\\Local\\Temp\\ipykernel_18244\\3819920871.py:29: FutureWarning: The expected order of coordinates in `bbox` will change in the v2.0.0 release to `(left, bottom, right, top)`.\n",
      "  gdf = ox.features_from_bbox(north, south, east, west, tags=tag)\n",
      "C:\\Users\\kusha\\AppData\\Local\\Temp\\ipykernel_18244\\3819920871.py:31: UserWarning: Geometry is in a geographic CRS. Results from 'centroid' are likely incorrect. Use 'GeoSeries.to_crs()' to re-project geometries to a projected CRS before this operation.\n",
      "\n",
      "  gdf[\"longitude\"] = gdf.geometry.centroid.x\n",
      "C:\\Users\\kusha\\AppData\\Local\\Temp\\ipykernel_18244\\3819920871.py:32: UserWarning: Geometry is in a geographic CRS. Results from 'centroid' are likely incorrect. Use 'GeoSeries.to_crs()' to re-project geometries to a projected CRS before this operation.\n",
      "\n",
      "  gdf[\"latitude\"] = gdf.geometry.centroid.y\n"
     ]
    },
    {
     "name": "stdout",
     "output_type": "stream",
     "text": [
      "✅ Saved san_jose_osm_cleaned\\amenity_bbox.csv | Records: 2681\n",
      "\n",
      "🏙️ Starting SMALL AREA (neighborhood) downloads...\n",
      "📦 Fetching 'building' for Willow Glen, San Jose, California, USA...\n"
     ]
    },
    {
     "name": "stderr",
     "output_type": "stream",
     "text": [
      "C:\\Users\\kusha\\AppData\\Local\\Temp\\ipykernel_18244\\3819920871.py:58: UserWarning: Geometry is in a geographic CRS. Results from 'centroid' are likely incorrect. Use 'GeoSeries.to_crs()' to re-project geometries to a projected CRS before this operation.\n",
      "\n",
      "  gdf[\"longitude\"] = gdf.geometry.centroid.x\n",
      "C:\\Users\\kusha\\AppData\\Local\\Temp\\ipykernel_18244\\3819920871.py:59: UserWarning: Geometry is in a geographic CRS. Results from 'centroid' are likely incorrect. Use 'GeoSeries.to_crs()' to re-project geometries to a projected CRS before this operation.\n",
      "\n",
      "  gdf[\"latitude\"] = gdf.geometry.centroid.y\n"
     ]
    },
    {
     "name": "stdout",
     "output_type": "stream",
     "text": [
      "✅ Saved san_jose_osm_cleaned\\willow_glen_building.csv | Records: 8365\n",
      "📦 Fetching 'healthcare' for Willow Glen, San Jose, California, USA...\n"
     ]
    },
    {
     "name": "stderr",
     "output_type": "stream",
     "text": [
      "C:\\Users\\kusha\\AppData\\Local\\Temp\\ipykernel_18244\\3819920871.py:58: UserWarning: Geometry is in a geographic CRS. Results from 'centroid' are likely incorrect. Use 'GeoSeries.to_crs()' to re-project geometries to a projected CRS before this operation.\n",
      "\n",
      "  gdf[\"longitude\"] = gdf.geometry.centroid.x\n",
      "C:\\Users\\kusha\\AppData\\Local\\Temp\\ipykernel_18244\\3819920871.py:59: UserWarning: Geometry is in a geographic CRS. Results from 'centroid' are likely incorrect. Use 'GeoSeries.to_crs()' to re-project geometries to a projected CRS before this operation.\n",
      "\n",
      "  gdf[\"latitude\"] = gdf.geometry.centroid.y\n"
     ]
    },
    {
     "name": "stdout",
     "output_type": "stream",
     "text": [
      "✅ Saved san_jose_osm_cleaned\\willow_glen_healthcare.csv | Records: 6\n",
      "📦 Fetching 'highway' for Willow Glen, San Jose, California, USA...\n"
     ]
    },
    {
     "name": "stderr",
     "output_type": "stream",
     "text": [
      "C:\\Users\\kusha\\AppData\\Local\\Temp\\ipykernel_18244\\3819920871.py:58: UserWarning: Geometry is in a geographic CRS. Results from 'centroid' are likely incorrect. Use 'GeoSeries.to_crs()' to re-project geometries to a projected CRS before this operation.\n",
      "\n",
      "  gdf[\"longitude\"] = gdf.geometry.centroid.x\n",
      "C:\\Users\\kusha\\AppData\\Local\\Temp\\ipykernel_18244\\3819920871.py:59: UserWarning: Geometry is in a geographic CRS. Results from 'centroid' are likely incorrect. Use 'GeoSeries.to_crs()' to re-project geometries to a projected CRS before this operation.\n",
      "\n",
      "  gdf[\"latitude\"] = gdf.geometry.centroid.y\n"
     ]
    },
    {
     "name": "stdout",
     "output_type": "stream",
     "text": [
      "✅ Saved san_jose_osm_cleaned\\willow_glen_highway.csv | Records: 2064\n",
      "📦 Fetching 'amenity' for Willow Glen, San Jose, California, USA...\n"
     ]
    },
    {
     "name": "stderr",
     "output_type": "stream",
     "text": [
      "C:\\Users\\kusha\\AppData\\Local\\Temp\\ipykernel_18244\\3819920871.py:58: UserWarning: Geometry is in a geographic CRS. Results from 'centroid' are likely incorrect. Use 'GeoSeries.to_crs()' to re-project geometries to a projected CRS before this operation.\n",
      "\n",
      "  gdf[\"longitude\"] = gdf.geometry.centroid.x\n",
      "C:\\Users\\kusha\\AppData\\Local\\Temp\\ipykernel_18244\\3819920871.py:59: UserWarning: Geometry is in a geographic CRS. Results from 'centroid' are likely incorrect. Use 'GeoSeries.to_crs()' to re-project geometries to a projected CRS before this operation.\n",
      "\n",
      "  gdf[\"latitude\"] = gdf.geometry.centroid.y\n"
     ]
    },
    {
     "name": "stdout",
     "output_type": "stream",
     "text": [
      "✅ Saved san_jose_osm_cleaned\\willow_glen_amenity.csv | Records: 138\n",
      "📦 Fetching 'building' for Japantown, San Jose, California, USA...\n",
      "❌ Failed to fetch building for Japantown, San Jose, California, USA: Nominatim could not geocode query 'Japantown, San Jose, California, USA' to a geometry of type (Multi)Polygon\n",
      "📦 Fetching 'healthcare' for Japantown, San Jose, California, USA...\n",
      "❌ Failed to fetch healthcare for Japantown, San Jose, California, USA: Nominatim could not geocode query 'Japantown, San Jose, California, USA' to a geometry of type (Multi)Polygon\n",
      "📦 Fetching 'highway' for Japantown, San Jose, California, USA...\n",
      "❌ Failed to fetch highway for Japantown, San Jose, California, USA: Nominatim could not geocode query 'Japantown, San Jose, California, USA' to a geometry of type (Multi)Polygon\n",
      "📦 Fetching 'amenity' for Japantown, San Jose, California, USA...\n",
      "❌ Failed to fetch amenity for Japantown, San Jose, California, USA: Nominatim could not geocode query 'Japantown, San Jose, California, USA' to a geometry of type (Multi)Polygon\n",
      "📦 Fetching 'building' for Alum Rock, San Jose, California, USA...\n"
     ]
    },
    {
     "name": "stderr",
     "output_type": "stream",
     "text": [
      "C:\\Users\\kusha\\AppData\\Local\\Temp\\ipykernel_18244\\3819920871.py:58: UserWarning: Geometry is in a geographic CRS. Results from 'centroid' are likely incorrect. Use 'GeoSeries.to_crs()' to re-project geometries to a projected CRS before this operation.\n",
      "\n",
      "  gdf[\"longitude\"] = gdf.geometry.centroid.x\n",
      "C:\\Users\\kusha\\AppData\\Local\\Temp\\ipykernel_18244\\3819920871.py:59: UserWarning: Geometry is in a geographic CRS. Results from 'centroid' are likely incorrect. Use 'GeoSeries.to_crs()' to re-project geometries to a projected CRS before this operation.\n",
      "\n",
      "  gdf[\"latitude\"] = gdf.geometry.centroid.y\n"
     ]
    },
    {
     "name": "stdout",
     "output_type": "stream",
     "text": [
      "✅ Saved san_jose_osm_cleaned\\alum_rock_building.csv | Records: 5184\n",
      "📦 Fetching 'healthcare' for Alum Rock, San Jose, California, USA...\n"
     ]
    },
    {
     "name": "stderr",
     "output_type": "stream",
     "text": [
      "C:\\Users\\kusha\\AppData\\Local\\Temp\\ipykernel_18244\\3819920871.py:58: UserWarning: Geometry is in a geographic CRS. Results from 'centroid' are likely incorrect. Use 'GeoSeries.to_crs()' to re-project geometries to a projected CRS before this operation.\n",
      "\n",
      "  gdf[\"longitude\"] = gdf.geometry.centroid.x\n",
      "C:\\Users\\kusha\\AppData\\Local\\Temp\\ipykernel_18244\\3819920871.py:59: UserWarning: Geometry is in a geographic CRS. Results from 'centroid' are likely incorrect. Use 'GeoSeries.to_crs()' to re-project geometries to a projected CRS before this operation.\n",
      "\n",
      "  gdf[\"latitude\"] = gdf.geometry.centroid.y\n"
     ]
    },
    {
     "name": "stdout",
     "output_type": "stream",
     "text": [
      "✅ Saved san_jose_osm_cleaned\\alum_rock_healthcare.csv | Records: 2\n",
      "📦 Fetching 'highway' for Alum Rock, San Jose, California, USA...\n"
     ]
    },
    {
     "name": "stderr",
     "output_type": "stream",
     "text": [
      "C:\\Users\\kusha\\AppData\\Local\\Temp\\ipykernel_18244\\3819920871.py:58: UserWarning: Geometry is in a geographic CRS. Results from 'centroid' are likely incorrect. Use 'GeoSeries.to_crs()' to re-project geometries to a projected CRS before this operation.\n",
      "\n",
      "  gdf[\"longitude\"] = gdf.geometry.centroid.x\n",
      "C:\\Users\\kusha\\AppData\\Local\\Temp\\ipykernel_18244\\3819920871.py:59: UserWarning: Geometry is in a geographic CRS. Results from 'centroid' are likely incorrect. Use 'GeoSeries.to_crs()' to re-project geometries to a projected CRS before this operation.\n",
      "\n",
      "  gdf[\"latitude\"] = gdf.geometry.centroid.y\n"
     ]
    },
    {
     "name": "stdout",
     "output_type": "stream",
     "text": [
      "✅ Saved san_jose_osm_cleaned\\alum_rock_highway.csv | Records: 865\n",
      "📦 Fetching 'amenity' for Alum Rock, San Jose, California, USA...\n",
      "✅ Saved san_jose_osm_cleaned\\alum_rock_amenity.csv | Records: 26\n",
      "\n",
      "🎉 DONE! All OSM data saved to folder: san_jose_osm_cleaned\n"
     ]
    },
    {
     "name": "stderr",
     "output_type": "stream",
     "text": [
      "C:\\Users\\kusha\\AppData\\Local\\Temp\\ipykernel_18244\\3819920871.py:58: UserWarning: Geometry is in a geographic CRS. Results from 'centroid' are likely incorrect. Use 'GeoSeries.to_crs()' to re-project geometries to a projected CRS before this operation.\n",
      "\n",
      "  gdf[\"longitude\"] = gdf.geometry.centroid.x\n",
      "C:\\Users\\kusha\\AppData\\Local\\Temp\\ipykernel_18244\\3819920871.py:59: UserWarning: Geometry is in a geographic CRS. Results from 'centroid' are likely incorrect. Use 'GeoSeries.to_crs()' to re-project geometries to a projected CRS before this operation.\n",
      "\n",
      "  gdf[\"latitude\"] = gdf.geometry.centroid.y\n"
     ]
    }
   ],
   "source": [
    "import os\n",
    "import pandas as pd\n",
    "import geopandas as gpd\n",
    "import osmnx as ox\n",
    "\n",
    "# Create output directory\n",
    "output_dir = \"san_jose_osm_cleaned\"\n",
    "os.makedirs(output_dir, exist_ok=True)\n",
    "\n",
    "# -----------------------------#\n",
    "# ✅ SOLUTION A: BOUNDING BOX #\n",
    "# -----------------------------#\n",
    "print(\"🔲 Starting BOUNDING BOX download...\")\n",
    "\n",
    "# Bounding Box around central San Jose (adjust if needed)\n",
    "north, south, east, west = 37.36, 37.30, -121.85, -121.91\n",
    "\n",
    "# Feature tags to extract\n",
    "tags_list = [\n",
    "    (\"building\", {\"building\": True}),\n",
    "    (\"healthcare\", {\"healthcare\": True}),\n",
    "    (\"highway\", {\"highway\": True}),\n",
    "    (\"amenity\", {\"amenity\": True})\n",
    "]\n",
    "\n",
    "for feature_name, tag in tags_list:\n",
    "    print(f\"📦 Fetching '{feature_name}' via bounding box...\")\n",
    "    try:\n",
    "        gdf = ox.features_from_bbox(north, south, east, west, tags=tag)\n",
    "        gdf = gdf[gdf.geometry.notnull()]\n",
    "        gdf[\"longitude\"] = gdf.geometry.centroid.x\n",
    "        gdf[\"latitude\"] = gdf.geometry.centroid.y\n",
    "        filename = os.path.join(output_dir, f\"{feature_name}_bbox.csv\")\n",
    "        gdf.to_csv(filename, index=False)\n",
    "        print(f\"✅ Saved {filename} | Records: {len(gdf)}\")\n",
    "    except Exception as e:\n",
    "        print(f\"❌ Failed to fetch {feature_name} via bounding box: {e}\")\n",
    "\n",
    "# --------------------------------------#\n",
    "# ✅ SOLUTION B: SMALL AREAS BY NAMES  #\n",
    "# --------------------------------------#\n",
    "print(\"\\n🏙️ Starting SMALL AREA (neighborhood) downloads...\")\n",
    "\n",
    "# Smaller neighborhoods in San Jose\n",
    "places = [\n",
    "    \"Willow Glen, San Jose, California, USA\",\n",
    "    \"Japantown, San Jose, California, USA\",\n",
    "    \"Alum Rock, San Jose, California, USA\"\n",
    "]\n",
    "\n",
    "for place in places:\n",
    "    place_key = place.split(',')[0].replace(\" \", \"_\").lower()\n",
    "    for feature_name, tag in tags_list:\n",
    "        print(f\"📦 Fetching '{feature_name}' for {place}...\")\n",
    "        try:\n",
    "            gdf = ox.features_from_place(place, tags=tag)\n",
    "            gdf = gdf[gdf.geometry.notnull()]\n",
    "            gdf[\"longitude\"] = gdf.geometry.centroid.x\n",
    "            gdf[\"latitude\"] = gdf.geometry.centroid.y\n",
    "            filename = os.path.join(output_dir, f\"{place_key}_{feature_name}.csv\")\n",
    "            gdf.to_csv(filename, index=False)\n",
    "            print(f\"✅ Saved {filename} | Records: {len(gdf)}\")\n",
    "        except Exception as e:\n",
    "            print(f\"❌ Failed to fetch {feature_name} for {place}: {e}\")\n",
    "\n",
    "print(\"\\n🎉 DONE! All OSM data saved to folder:\", output_dir)\n"
   ]
  },
  {
   "cell_type": "code",
   "execution_count": 5,
   "id": "f8b93acf",
   "metadata": {},
   "outputs": [
    {
     "name": "stderr",
     "output_type": "stream",
     "text": [
      "C:\\Users\\kusha\\AppData\\Local\\Temp\\ipykernel_18244\\584565999.py:15: DtypeWarning: Columns (2,3,4,6,7,9,10,11,12,13,14,15,16,17,18,20,21,22,24,25,26,27,28,29,31,32,37,38,40,41,42,43,44,45,46,47,48,50,51,52,54,55,56,57,58,59,60,63,64,65,66,67,68,69,70,71,72,73,74,76,77,79,80,81,82,83,84,85,86,87,88,89,90,91,92,93,94,95,96,97,98,99,100,101,102,104,105,106,107,108,109,110,111,112,113,114,115,116,117,118,119,120,121,122,123,124,126,127,131,132,133,134,135,136,137,138,139,140,141,142,143,144,145,146,147,148,149,150,151,152,153,154,155,156,157,158,159,160,161,162,163,164,165,166,167,168,170,171,172,173,174,175,176,177,178,179,180,181,182,183,184,185,186,187,189,190,191,192,193,194,195,196,197,198,199,200,201,202,203,204,205,206,208,209,211,212,213,214,215,216,218,219,220,221,222,223,224,225,226,227,228,229,230,231,232,233,234,235,236,237,238,239,240,242,243,244,245,246,247,248,249,251,252,253,254,256,257,258,259,260,261,262,263,264,265,266,267,268,269,270,271,272,273,274,277,278,279,280,281,282,283,284,285,286,287,288,289,290,291,292,293,294,295,296,297,298,299,300,301,302,303,304,305,306,307,308,309,310,311,312,313,314,315,316,317,318,319,320,321,322,323,324,325,326,327,328,329,330,331,332,333,334,335,336,337,338,339,340,341,342,343,344,345,346,347,348,349,350,351,353,354,355,356,357,358,359,360,361,362,363,364,365,366,367,368,369,370,374,375,376,377,378,379,380,381,382,383,384,385,386,387,388,389,390,391,392,393,394,395,396,397,398,399,400) have mixed types. Specify dtype option on import or set low_memory=False.\n",
      "  return pd.read_csv(path) if os.path.exists(path) else pd.DataFrame()\n",
      "C:\\Users\\kusha\\anaconda3\\Lib\\site-packages\\seaborn\\_oldcore.py:1498: DeprecationWarning: is_categorical_dtype is deprecated and will be removed in a future version. Use isinstance(dtype, pd.CategoricalDtype) instead\n",
      "  if pd.api.types.is_categorical_dtype(vector):\n",
      "C:\\Users\\kusha\\anaconda3\\Lib\\site-packages\\seaborn\\_oldcore.py:1498: DeprecationWarning: is_categorical_dtype is deprecated and will be removed in a future version. Use isinstance(dtype, pd.CategoricalDtype) instead\n",
      "  if pd.api.types.is_categorical_dtype(vector):\n"
     ]
    },
    {
     "name": "stdout",
     "output_type": "stream",
     "text": [
      "✅ Saved: building_type_bar.png\n",
      "⚠️ Healthcare data not found or 'beds' column missing.\n"
     ]
    },
    {
     "name": "stderr",
     "output_type": "stream",
     "text": [
      "C:\\Users\\kusha\\AppData\\Local\\Temp\\ipykernel_18244\\584565999.py:15: DtypeWarning: Columns (1,17,18,19,22,37,42,43,55,57,59,61,62,63,64,65,68,71,72,73,80,84,86,96,97,99,100,107,109,114,116,118,119,120,122,124,125,126,127,129,130,131,132,135,136,137,138,140,141,142,143,145,146,148,150,151,152,153,154,157,158,162,163,164,166,168,169,170,172,176,177,178,179,180,181,182,183,184,185,186,187,188,189,194,196,197,198,199,200,201,204,206,207,208,209,213,215,216,217,218,220,221,222,223,224,225,226,227,228,229,230,231,233,234,235,238,239,240,242,243,244,245,246,247,248,250,251,252,253,254,255,257,258,260,261,262,264,265,266,267,268,269,270,271,272,273,274,275,277,278,279,281,282,283,284,285,287,288,289,291,292,293,294,295,297,298,299,300,301,302,303,304,305,306,307,308,309,310,311,312,313,314,316,317,318,319,320,321,322,323,324,325,326,327,328,329,330,331,332,333,334,335,336,337,338,339,340,342,343,344,345,346,347,348,349,350,352,353,354,355,356,357,358,359,360,361,362,363,364,365,366,367,368,369,371,372,373,374,375,376,377,380,381,382,383,384,385,386,387,389,390,392,393,394,396,397,398,399,400,401,402,403,404,405,406,407,409,410,411,412,413,414,415,416,417,418,419,420,421,422,423,424,425,426,427,428,429,430,432,433,434,435,436,437,438,439,440,441,442,448,451,452,454,456,457,458,459,460,461,462,463,464,465,466,467,468,469,470,471,472,473,474,475,476,477,478,479,480,481,482,483,484,485,486,487,488,489,490,491,492,493,494,495,496,497,498,499,500,501,502,503,504,505,506,507,508,509,510) have mixed types. Specify dtype option on import or set low_memory=False.\n",
      "  return pd.read_csv(path) if os.path.exists(path) else pd.DataFrame()\n"
     ]
    },
    {
     "name": "stdout",
     "output_type": "stream",
     "text": [
      "✅ Saved: amenities_pie_chart.png\n",
      "✅ Saved: map_building_density.html\n",
      "✅ Saved: map_healthcare_facilities.html\n",
      "✅ Saved: map_amenities.html\n"
     ]
    }
   ],
   "source": [
    "import os\n",
    "import pandas as pd\n",
    "import matplotlib.pyplot as plt\n",
    "import seaborn as sns\n",
    "import folium\n",
    "\n",
    "# Input & output folders\n",
    "input_dir = \"san_jose_osm_cleaned\"\n",
    "output_dir = \"visualizations\"\n",
    "os.makedirs(output_dir, exist_ok=True)\n",
    "\n",
    "# Helper: Load CSV safely\n",
    "def load_csv_safe(file):\n",
    "    path = os.path.join(input_dir, file)\n",
    "    return pd.read_csv(path) if os.path.exists(path) else pd.DataFrame()\n",
    "\n",
    "# ------------------------- #\n",
    "# 📊 BUILDING TYPE BAR CHART\n",
    "# ------------------------- #\n",
    "buildings_df = load_csv_safe(\"building_bbox.csv\")\n",
    "if not buildings_df.empty and \"building\" in buildings_df.columns:\n",
    "    plt.figure(figsize=(10, 6))\n",
    "    sns.countplot(y=\"building\", data=buildings_df, order=buildings_df[\"building\"].value_counts().iloc[:10].index)\n",
    "    plt.title(\"Top 10 Building Types in San Jose (Bounding Box)\")\n",
    "    plt.xlabel(\"Count\")\n",
    "    plt.tight_layout()\n",
    "    plt.savefig(f\"{output_dir}/building_type_bar.png\")\n",
    "    plt.close()\n",
    "    print(\"✅ Saved: building_type_bar.png\")\n",
    "else:\n",
    "    print(\"⚠️ Building data not found or missing 'building' column.\")\n",
    "\n",
    "# ------------------------- #\n",
    "# 📊 HOSPITAL BEDS BOXPLOT\n",
    "# ------------------------- #\n",
    "health_df = load_csv_safe(\"healthcare_bbox.csv\")\n",
    "if not health_df.empty and \"beds\" in health_df.columns:\n",
    "    health_df[\"beds\"] = pd.to_numeric(health_df[\"beds\"], errors=\"coerce\")\n",
    "    beds_df = health_df[health_df[\"beds\"].notnull()]\n",
    "    if not beds_df.empty:\n",
    "        plt.figure(figsize=(8, 5))\n",
    "        sns.boxplot(x=beds_df[\"beds\"])\n",
    "        plt.title(\"Distribution of Hospital Bed Counts\")\n",
    "        plt.xlabel(\"Number of Beds\")\n",
    "        plt.tight_layout()\n",
    "        plt.savefig(f\"{output_dir}/hospital_beds_boxplot.png\")\n",
    "        plt.close()\n",
    "        print(\"✅ Saved: hospital_beds_boxplot.png\")\n",
    "    else:\n",
    "        print(\"⚠️ No valid 'beds' values to plot.\")\n",
    "else:\n",
    "    print(\"⚠️ Healthcare data not found or 'beds' column missing.\")\n",
    "\n",
    "# ------------------------- #\n",
    "# 📊 AMENITY PIE CHART\n",
    "# ------------------------- #\n",
    "amenity_df = load_csv_safe(\"amenity_bbox.csv\")\n",
    "if not amenity_df.empty and \"amenity\" in amenity_df.columns:\n",
    "    top_amenities = amenity_df[\"amenity\"].value_counts().iloc[:6]\n",
    "    plt.figure(figsize=(7, 7))\n",
    "    top_amenities.plot.pie(autopct=\"%1.1f%%\")\n",
    "    plt.title(\"Top 6 Amenities in San Jose (BBox)\")\n",
    "    plt.ylabel(\"\")\n",
    "    plt.tight_layout()\n",
    "    plt.savefig(f\"{output_dir}/amenities_pie_chart.png\")\n",
    "    plt.close()\n",
    "    print(\"✅ Saved: amenities_pie_chart.png\")\n",
    "else:\n",
    "    print(\"⚠️ Amenity data not found or 'amenity' column missing.\")\n",
    "\n",
    "# ------------------------- #\n",
    "# 🗺️ BUILDING DENSITY MAP\n",
    "# ------------------------- #\n",
    "if not buildings_df.empty:\n",
    "    m1 = folium.Map(location=[37.33, -121.88], zoom_start=13)\n",
    "    for _, row in buildings_df.iterrows():\n",
    "        folium.CircleMarker(\n",
    "            location=[row[\"latitude\"], row[\"longitude\"]],\n",
    "            radius=2,\n",
    "            color=\"blue\",\n",
    "            fill=True,\n",
    "            fill_opacity=0.4\n",
    "        ).add_to(m1)\n",
    "    m1.save(f\"{output_dir}/map_building_density.html\")\n",
    "    print(\"✅ Saved: map_building_density.html\")\n",
    "else:\n",
    "    print(\"⚠️ Building data not found for mapping.\")\n",
    "\n",
    "# ------------------------- #\n",
    "# 🗺️ HEALTHCARE FACILITIES MAP\n",
    "# ------------------------- #\n",
    "if not health_df.empty:\n",
    "    m2 = folium.Map(location=[37.33, -121.88], zoom_start=13)\n",
    "    for _, row in health_df.iterrows():\n",
    "        try:\n",
    "            beds = float(row[\"beds\"]) if not pd.isnull(row[\"beds\"]) else 0\n",
    "            size = min(max(beds / 20, 3), 15)\n",
    "        except:\n",
    "            size = 3\n",
    "        folium.CircleMarker(\n",
    "            location=[row[\"latitude\"], row[\"longitude\"]],\n",
    "            radius=size,\n",
    "            color=\"red\",\n",
    "            fill=True,\n",
    "            fill_opacity=0.7,\n",
    "            popup=f\"{row.get('name', 'Unknown')} | Beds: {row.get('beds', 'NA')}\"\n",
    "        ).add_to(m2)\n",
    "    m2.save(f\"{output_dir}/map_healthcare_facilities.html\")\n",
    "    print(\"✅ Saved: map_healthcare_facilities.html\")\n",
    "else:\n",
    "    print(\"⚠️ Healthcare data not found for mapping.\")\n",
    "\n",
    "# ------------------------- #\n",
    "# 🗺️ AMENITY MARKERS MAP\n",
    "# ------------------------- #\n",
    "if not amenity_df.empty:\n",
    "    m3 = folium.Map(location=[37.33, -121.88], zoom_start=13)\n",
    "    for _, row in amenity_df.iterrows():\n",
    "        folium.Marker(\n",
    "            location=[row[\"latitude\"], row[\"longitude\"]],\n",
    "            popup=row.get(\"amenity\", \"Unknown\"),\n",
    "            icon=folium.Icon(color=\"green\", icon=\"info-sign\")\n",
    "        ).add_to(m3)\n",
    "    m3.save(f\"{output_dir}/map_amenities.html\")\n",
    "    print(\"✅ Saved: map_amenities.html\")\n",
    "else:\n",
    "    print(\"⚠️ Amenity data not found for mapping.\")\n"
   ]
  },
  {
   "cell_type": "code",
   "execution_count": 6,
   "id": "50bf989a",
   "metadata": {},
   "outputs": [
    {
     "name": "stderr",
     "output_type": "stream",
     "text": [
      "C:\\Users\\kusha\\AppData\\Local\\Temp\\ipykernel_18244\\2947308916.py:15: DtypeWarning: Columns (2,3,4,5,6,8,9,11,12,13,16,17,20,21,22,23,24,25,27,28,29,30,31,32,33,34,35,36,37,38,39,40,41,42,43,44,45,46,47,48,49,50,51,52,53,54,55,56,57,58,60,61,62,63,64,65,66,67,68,69,70,71,72,73,75,76,77,78,79,80,81,82,83,84,87,88,89,90,91,92,93,94,95,97,98,99,101,102,103,104,105,106,107,108,109,111,112,113,114,115,116,117,118,119,120,121,122,123,124,127,128,129,130,131,132,133,134,135,136,137,138,139,140,141,142,143,144,145,146,147,148,149,150,151,152,153,154,155,156,158,159,160,161,163,164,165,166,167,168,169,170,171,172,173,174,175,176,177,178,179,180,181,182,183,184,185,186,187,188,189,190,191,192,193,194,195,196,197,198,199,200,201,202,204,205,206,207,208,209,210,211,212,213,214,215,216,218,219,220,221,222,223,224,225,226,227,228,229,230,231,232,233,234,235,236,237,238,239,240,241,242,243,246,247,248,249,250,251,252,253,254,256,257,258,259,260,261,262,263,264,265,266,267,268,269,270,271,272,273,274,275,276,277,278,279,280,281,282,283,284,285,286,287,288,289,290,291,292,294,295,296,297,298,299,300,301,302,303,304,305,306,307,308,309,310,311,312,313,314,315,316) have mixed types. Specify dtype option on import or set low_memory=False.\n",
      "  return pd.read_csv(path) if os.path.exists(path) else pd.DataFrame()\n"
     ]
    },
    {
     "name": "stdout",
     "output_type": "stream",
     "text": [
      "✅ Saved: road_density_heatmap.html\n"
     ]
    },
    {
     "name": "stderr",
     "output_type": "stream",
     "text": [
      "C:\\Users\\kusha\\AppData\\Local\\Temp\\ipykernel_18244\\2947308916.py:15: DtypeWarning: Columns (2,3,4,6,7,9,10,11,12,13,14,15,16,17,18,20,21,22,24,25,26,27,28,29,31,32,37,38,40,41,42,43,44,45,46,47,48,50,51,52,54,55,56,57,58,59,60,63,64,65,66,67,68,69,70,71,72,73,74,76,77,79,80,81,82,83,84,85,86,87,88,89,90,91,92,93,94,95,96,97,98,99,100,101,102,104,105,106,107,108,109,110,111,112,113,114,115,116,117,118,119,120,121,122,123,124,126,127,131,132,133,134,135,136,137,138,139,140,141,142,143,144,145,146,147,148,149,150,151,152,153,154,155,156,157,158,159,160,161,162,163,164,165,166,167,168,170,171,172,173,174,175,176,177,178,179,180,181,182,183,184,185,186,187,189,190,191,192,193,194,195,196,197,198,199,200,201,202,203,204,205,206,208,209,211,212,213,214,215,216,218,219,220,221,222,223,224,225,226,227,228,229,230,231,232,233,234,235,236,237,238,239,240,242,243,244,245,246,247,248,249,251,252,253,254,256,257,258,259,260,261,262,263,264,265,266,267,268,269,270,271,272,273,274,277,278,279,280,281,282,283,284,285,286,287,288,289,290,291,292,293,294,295,296,297,298,299,300,301,302,303,304,305,306,307,308,309,310,311,312,313,314,315,316,317,318,319,320,321,322,323,324,325,326,327,328,329,330,331,332,333,334,335,336,337,338,339,340,341,342,343,344,345,346,347,348,349,350,351,353,354,355,356,357,358,359,360,361,362,363,364,365,366,367,368,369,370,374,375,376,377,378,379,380,381,382,383,384,385,386,387,388,389,390,391,392,393,394,395,396,397,398,399,400) have mixed types. Specify dtype option on import or set low_memory=False.\n",
      "  return pd.read_csv(path) if os.path.exists(path) else pd.DataFrame()\n",
      "C:\\Users\\kusha\\AppData\\Local\\Temp\\ipykernel_18244\\2947308916.py:15: DtypeWarning: Columns (1,17,18,19,22,37,42,43,55,57,59,61,62,63,64,65,68,71,72,73,80,84,86,96,97,99,100,107,109,114,116,118,119,120,122,124,125,126,127,129,130,131,132,135,136,137,138,140,141,142,143,145,146,148,150,151,152,153,154,157,158,162,163,164,166,168,169,170,172,176,177,178,179,180,181,182,183,184,185,186,187,188,189,194,196,197,198,199,200,201,204,206,207,208,209,213,215,216,217,218,220,221,222,223,224,225,226,227,228,229,230,231,233,234,235,238,239,240,242,243,244,245,246,247,248,250,251,252,253,254,255,257,258,260,261,262,264,265,266,267,268,269,270,271,272,273,274,275,277,278,279,281,282,283,284,285,287,288,289,291,292,293,294,295,297,298,299,300,301,302,303,304,305,306,307,308,309,310,311,312,313,314,316,317,318,319,320,321,322,323,324,325,326,327,328,329,330,331,332,333,334,335,336,337,338,339,340,342,343,344,345,346,347,348,349,350,352,353,354,355,356,357,358,359,360,361,362,363,364,365,366,367,368,369,371,372,373,374,375,376,377,380,381,382,383,384,385,386,387,389,390,392,393,394,396,397,398,399,400,401,402,403,404,405,406,407,409,410,411,412,413,414,415,416,417,418,419,420,421,422,423,424,425,426,427,428,429,430,432,433,434,435,436,437,438,439,440,441,442,448,451,452,454,456,457,458,459,460,461,462,463,464,465,466,467,468,469,470,471,472,473,474,475,476,477,478,479,480,481,482,483,484,485,486,487,488,489,490,491,492,493,494,495,496,497,498,499,500,501,502,503,504,505,506,507,508,509,510) have mixed types. Specify dtype option on import or set low_memory=False.\n",
      "  return pd.read_csv(path) if os.path.exists(path) else pd.DataFrame()\n"
     ]
    },
    {
     "name": "stdout",
     "output_type": "stream",
     "text": [
      "✅ Saved: operator_donut_chart.png\n",
      "✅ Saved: road_type_map.html\n",
      "⚠️ Land use data not available.\n",
      "✅ Saved: operator_markers_map.html\n"
     ]
    }
   ],
   "source": [
    "import os\n",
    "import pandas as pd\n",
    "import matplotlib.pyplot as plt\n",
    "import seaborn as sns\n",
    "import folium\n",
    "from folium.plugins import HeatMap\n",
    "\n",
    "# Folder setup\n",
    "input_dir = \"san_jose_osm_cleaned\"\n",
    "output_dir = \"visualizations\"\n",
    "os.makedirs(output_dir, exist_ok=True)\n",
    "\n",
    "def load_csv_safe(file):\n",
    "    path = os.path.join(input_dir, file)\n",
    "    return pd.read_csv(path) if os.path.exists(path) else pd.DataFrame()\n",
    "\n",
    "# ------------------------- #\n",
    "# 🖼️ Figure 7: Road Density Heatmap\n",
    "# ------------------------- #\n",
    "roads_df = load_csv_safe(\"highway_bbox.csv\")\n",
    "if not roads_df.empty:\n",
    "    m = folium.Map(location=[37.33, -121.88], zoom_start=13)\n",
    "    heat_data = roads_df[['latitude', 'longitude']].dropna().values.tolist()\n",
    "    HeatMap(heat_data, radius=8, blur=12).add_to(m)\n",
    "    m.save(f\"{output_dir}/road_density_heatmap.html\")\n",
    "    print(\"✅ Saved: road_density_heatmap.html\")\n",
    "else:\n",
    "    print(\"⚠️ Road data not available for heatmap.\")\n",
    "\n",
    "# ------------------------- #\n",
    "# 🖼️ Figure 8: Donut Chart — Public vs Private Operators\n",
    "# ------------------------- #\n",
    "df_all = pd.concat([\n",
    "    load_csv_safe(\"building_bbox.csv\"),\n",
    "    load_csv_safe(\"healthcare_bbox.csv\"),\n",
    "    load_csv_safe(\"amenity_bbox.csv\")\n",
    "], ignore_index=True)\n",
    "\n",
    "if not df_all.empty and \"operator\" in df_all.columns:\n",
    "    df_all[\"operator\"] = df_all[\"operator\"].fillna(\"Unknown\")\n",
    "    top_operators = df_all[\"operator\"].value_counts().iloc[:5]\n",
    "    plt.figure(figsize=(6, 6))\n",
    "    plt.pie(top_operators, labels=top_operators.index, autopct=\"%1.1f%%\", startangle=140)\n",
    "    centre_circle = plt.Circle((0, 0), 0.70, fc=\"white\")\n",
    "    fig = plt.gcf()\n",
    "    fig.gca().add_artist(centre_circle)\n",
    "    plt.title(\"Top Facility Operators (Donut Chart)\")\n",
    "    plt.tight_layout()\n",
    "    plt.savefig(f\"{output_dir}/operator_donut_chart.png\")\n",
    "    plt.close()\n",
    "    print(\"✅ Saved: operator_donut_chart.png\")\n",
    "else:\n",
    "    print(\"⚠️ 'operator' column missing or empty.\")\n",
    "\n",
    "# ------------------------- #\n",
    "# 🖼️ Figure 5.4: Road Hierarchy Map\n",
    "# ------------------------- #\n",
    "if not roads_df.empty:\n",
    "    m = folium.Map(location=[37.33, -121.88], zoom_start=13)\n",
    "    color_map = {\n",
    "        \"primary\": \"red\",\n",
    "        \"secondary\": \"orange\",\n",
    "        \"tertiary\": \"blue\",\n",
    "        \"residential\": \"green\",\n",
    "        \"footway\": \"purple\",\n",
    "        \"service\": \"gray\"\n",
    "    }\n",
    "    for _, row in roads_df.iterrows():\n",
    "        color = color_map.get(str(row.get(\"highway\", \"\")).lower(), \"black\")\n",
    "        folium.CircleMarker(\n",
    "            location=[row[\"latitude\"], row[\"longitude\"]],\n",
    "            radius=1.5,\n",
    "            color=color,\n",
    "            fill=True,\n",
    "            fill_opacity=0.6,\n",
    "        ).add_to(m)\n",
    "    m.save(f\"{output_dir}/road_type_map.html\")\n",
    "    print(\"✅ Saved: road_type_map.html\")\n",
    "else:\n",
    "    print(\"⚠️ Road data not available for hierarchy map.\")\n",
    "\n",
    "# ------------------------- #\n",
    "# 🖼️ Figure 5.5: Land Use Map\n",
    "# ------------------------- #\n",
    "land_df = load_csv_safe(\"landuse_bbox.csv\")\n",
    "if not land_df.empty:\n",
    "    m = folium.Map(location=[37.33, -121.88], zoom_start=13)\n",
    "    for _, row in land_df.iterrows():\n",
    "        popup = row.get(\"landuse\", \"Unknown\")\n",
    "        folium.CircleMarker(\n",
    "            location=[row[\"latitude\"], row[\"longitude\"]],\n",
    "            radius=2,\n",
    "            color=\"brown\",\n",
    "            fill=True,\n",
    "            fill_opacity=0.5,\n",
    "            popup=popup\n",
    "        ).add_to(m)\n",
    "    m.save(f\"{output_dir}/land_use_map.html\")\n",
    "    print(\"✅ Saved: land_use_map.html\")\n",
    "else:\n",
    "    print(\"⚠️ Land use data not available.\")\n",
    "\n",
    "# ------------------------- #\n",
    "# 🖼️ Figure 5.6: Spatial Governance Map (by Operator)\n",
    "# ------------------------- #\n",
    "if not df_all.empty and \"operator\" in df_all.columns:\n",
    "    m = folium.Map(location=[37.33, -121.88], zoom_start=13)\n",
    "    for _, row in df_all[df_all[\"operator\"].notnull()].iterrows():\n",
    "        folium.CircleMarker(\n",
    "            location=[row[\"latitude\"], row[\"longitude\"]],\n",
    "            radius=3,\n",
    "            color=\"darkblue\",\n",
    "            fill=True,\n",
    "            fill_opacity=0.6,\n",
    "            popup=row[\"operator\"]\n",
    "        ).add_to(m)\n",
    "    m.save(f\"{output_dir}/operator_markers_map.html\")\n",
    "    print(\"✅ Saved: operator_markers_map.html\")\n",
    "else:\n",
    "    print(\"⚠️ No operator data found for spatial governance map.\")\n"
   ]
  }
 ],
 "metadata": {
  "kernelspec": {
   "display_name": "Python 3 (ipykernel)",
   "language": "python",
   "name": "python3"
  },
  "language_info": {
   "codemirror_mode": {
    "name": "ipython",
    "version": 3
   },
   "file_extension": ".py",
   "mimetype": "text/x-python",
   "name": "python",
   "nbconvert_exporter": "python",
   "pygments_lexer": "ipython3",
   "version": "3.11.7"
  }
 },
 "nbformat": 4,
 "nbformat_minor": 5
}
